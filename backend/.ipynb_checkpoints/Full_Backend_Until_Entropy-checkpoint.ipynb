{
 "cells": [
  {
   "cell_type": "code",
   "execution_count": 1,
   "metadata": {
    "colab": {
     "base_uri": "https://localhost:8080/"
    },
    "id": "YX_y3uRlVcuD",
    "outputId": "77e31617-009d-4711-f7fd-ae9e19401eef"
   },
   "outputs": [
    {
     "data": {
      "application/vnd.jupyter.widget-view+json": {
       "model_id": "66e82484954d4619a43607eb7a03456b",
       "version_major": 2,
       "version_minor": 0
      },
      "text/plain": [
       "model.bin:   0%|          | 0.00/1.18G [00:00<?, ?B/s]"
      ]
     },
     "metadata": {},
     "output_type": "display_data"
    },
    {
     "name": "stdout",
     "output_type": "stream",
     "text": [
      "['Gold discoveries', 'Wolfdogs', 'Classic Literature', 'American Adventure stories', 'Open Library Staff Picks', 'Juvenile fiction', 'Fiction', 'Gold mines and mining', 'Historical Fiction', 'Wolves', 'Human-animal relationships', 'Juvenile Literature', 'Dogs', 'Thriller', 'Accelerated Reader', 'Mensch', 'Survival', 'Children: Grades 4-6', 'Children: Grades 3-4', \"Children's fiction\", 'Wolves, fiction', 'Gold mines and mining, fiction', 'American fiction (fictional works by one author)', 'Dogs, fiction', 'Canada, fiction', 'Indians of North America', 'Large type books', 'Loups', 'Romans, nouvelles, etc. pour la jeunesse', 'Chiens', 'Pôle Nord', 'Romans', 'Adventure stories', 'Nature, fiction', 'Fiction, action & adventure', 'Fiction, historical, general', 'Human-animal relationships, fiction', 'History', 'Wolfdogs -- Fiction', 'Canada, Northern -- Fiction', 'Wilderness survival, fiction', 'Alaska, fiction', 'Yukon, fiction', 'California, fiction', 'Dogs, juvenile literature', 'Adventure and adventurers, fiction']\n"
     ]
    }
   ],
   "source": [
    "#import csv\n",
    "import urllib\n",
    "from urllib.parse import quote\n",
    "\n",
    "#language identifier 1\n",
    "!pip -q install fasttext\n",
    "import fasttext\n",
    "from huggingface_hub import hf_hub_download\n",
    "\n",
    "model_path = hf_hub_download(repo_id=\"facebook/fasttext-language-identification\", filename=\"model.bin\")\n",
    "model_ft = fasttext.load_model(model_path)\n",
    "\n",
    "#language identifier 2\n",
    "!pip -q install langid\n",
    "from langid.langid import LanguageIdentifier, model\n",
    "identifier = LanguageIdentifier.from_modelstring(model, norm_probs=True) #instantiate identifier\n",
    "\n",
    "import requests\n",
    "import re\n",
    "#testing Open Library API\n",
    "r = requests.get('https://openlibrary.org/search.json?q=subject:(\"dogs\"+OR+\"cats\")+subject:(\"Juvenile fiction\"+OR+\"Juvenile literature\")&fields=subject')\n",
    "r = r.json()\n",
    "subs = [d['subject'] for d in r['docs']] #gets the list, AKA value from k:v in subject:list dictionary\n",
    "#print(subs[0])"
   ]
  },
  {
   "cell_type": "code",
   "execution_count": 42,
   "metadata": {
    "id": "1213HiZlua35"
   },
   "outputs": [],
   "source": [
    "#discipline tags is a list\n",
    "#diversity tags is a list\n",
    "#k is the number of items to return\n",
    "\n",
    "#finds results that match ANY of the first list of tags and ANY of the second list of tags\n",
    "def search_recs(discipline_tags, diversity_tags, k):\n",
    "    #encode URI\n",
    "    discipline_tags, diversity_tags = list(map(lambda x: urllib.parse.quote(x.encode(\"utf-8\")), discipline_tags)), list(map(lambda x: urllib.parse.quote(x.encode(\"utf-8\")), diversity_tags))\n",
    "    #if this ever throws errors, maybe we need to specify unicode\n",
    "\n",
    "    #exact string matching\n",
    "    discipline_tags, diversity_tags = list(map(lambda x: f\"\\\"{x}\\\"\", discipline_tags)), list(map(lambda x: f\"\\\"{x}\\\"\", diversity_tags))\n",
    "\n",
    "    #match any of the tags\n",
    "    str_disc, str_div = '+OR+'.join(discipline_tags), '+OR+'.join(diversity_tags)\n",
    "\n",
    "    print(f'https://openlibrary.org/search.json?q=subject:({str_disc})+subject:({str_div})&fields=subject&limit={k}')\n",
    "    return requests.get(f'https://openlibrary.org/search.json?q=subject:({str_disc})+subject:({str_div})&fields=author_name,title,isbn,subject&limit={k}').json()"
   ]
  },
  {
   "cell_type": "code",
   "execution_count": 3,
   "metadata": {
    "colab": {
     "base_uri": "https://localhost:8080/"
    },
    "id": "ppOHa_ZHvYyd",
    "outputId": "75b3ca58-84e1-4382-f2e8-78e70944b075"
   },
   "outputs": [
    {
     "name": "stdout",
     "output_type": "stream",
     "text": [
      "https://openlibrary.org/search.json?q=subject:(\"social%20themes\"+OR+\"comics%20%26%20graphic%20novels\")+subject:(\"race%20relations\"+OR+\"americans\")&fields=subject&limit=2\n",
      "{'numFound': 891, 'start': 0, 'numFoundExact': True, 'docs': [{'author_name': ['Kahlil Gibran'], 'isbn': ['2742731954', '1736976206', '9780001000391', '9788492635016', '1096858797', '1513263226', '1782012303', '9657141427', '0316308994', '8121604370', '0486837734', '1904633552', '9781851681785', '8412470761', '1781394016', '2841610659', '9780868520483', '9781420961898', '9788479100605', '9780316308458', '0739333283', '9781095152645', '9780375701627', '9798629680031', '9781864760118', '1688105042', '9781689913805', '0958816131', '9798722333551', '9798614141691', '9782226039224', '8475221513', '9781848378711', '1407052411', '227730185X', '1793380619', '1096858681', '9789562910316', '153043694X', '9798550112601', '9782290313930', '1840133724', '9782910233136', '9781684223114', '172887033X', '1797577557', '9781677406852', '9798687195690', '9780140195866', '9780394550497', '9781513263229', '817224097X', '0679440674', '9783530268034', '9780099481638', '1795017619', '1093216263', '9781096511939', '9781734114218', '9781793026033', '9782909611105', '0802725325', '9781722501990', '9501702162', '1851681051', '1071082884', '2756433586', '9781794278004', '1655406086', '9781655406089', '9781072332145', '1848378718', '9388118456', '1098541073', '1090957297', '1097331024', '9781291832945', '9788172240974', '9781070816241', '179301938X', '1291269398', '8484034119', '9781841936161', '9781407078397', '1877527076', '3530268038', '9781099472183', '8479532475', '9781793017796', '9781793086815', '9789568356163', '9879186184', '9781678628185', '9782864440338', '9782266294546', '1095153315', '2203231408', '8476727011', '1090474873', '9798473506211', '9781794681354', '9781940849874', '9783451050893', '9781793880949', '9782203602144', '0141194677', '9780517202753', '9781090842220', '9798690471460', '1407078399', '9798620604180', '9781645172420', '062702372X', '2226039228', '9783530100075', '1957990139', '1086374088', '9798769545313', '9780143455226', '9781082769504', '1793086818', '9781096858683', '9788486344061', '1792996756', '9789772477838', '9781515439868', '9788185674728', '0434290815', '1079404791', '9782742731954', '9780679440673', '849214310X', '9781793261434', '0375701621', '9781698829210', '0330319728', '2203602147', '9788187061472', '9798616570000', '9781096858799', '107611279X', '9781504058407', '9953260265', '1096550091', '9780141910871', '9781688105041', '9789388118453', '1072870622', '9780099505204', '9782277301851', '9789657141427', '9783530267198', '9788479532475', '9781858912165', '8492635010', '9788477204770', '9780802725325', '1792892632', '1070523143', '1515439860', '9781434104175', '9781940849911', '1096511932', '9781792892639', '9798539745790', '9780434290789', '1504058402', '2910233138', '9783530268003', '9798529501320', '9780316308991', '1851681787', '2290313939', '9781096550099', '9781794196575', '1080986693', '9781082560842', '194084987X', '9781098827786', '9781094148328', '9781794078116', '9781072870623', '9176376656', '1774817039', '9781090529961', '2890740552', '2864440334', '3451050897', '2266294547', '1853264857', '1722501995', '9781090957290', '9781794497399', '9798763674071', '9781877527074', '9781782123460', '9781093216264', '9789879186183', '8187075244', '3491713366', '1072828782', '8484452700', '9781407093390', '9798623611451', '1677406852', '1441338365', '1839403845', '9789505640270', '9782290040539', '0143455222', '1780742150', '1520847289', '1943341338', '9781840133721', '9788484034117', '9781081077679', '9781839403842', '1094148318', '1691482706', '9783491713369', '9781793204905', '9781080986699', '9798416706456', '1940849918', '9781793261632', '9781696381055', '8477204772', '1858912164', '9781091277748', '9798649504119', '1657049361', '9798653309106', '1099472180', '9788471669223', '9789509234000', '9781070523149', '1696135621', '1420961896', '1793261636', '9781793380616', '9781095153314', '1798847078', '1291832947', '9788492143108', '9783492237871', '9781090474872', '9507642048', '0241573718', '9781707256938', '1529045851', '9781943341337', '9788475221519', '1696381053', '9798512529492', '9798665054773', '009941693X', '0857088556', '9781098541071', '9798451953488', '1689913800', '9788495407801', '1795002042', '8931000235', '9781795251426', '1794278001', '9788931000238', '1841936162', '9788415676430', '9780958816137', '9781793019387', '1090529961', '9781530436941', '3530100072', '1090842228', '1793880948', '164517638X', '0099481634', '1079404872', '9781798024072', '1796468436', '9798589937541', '9781736976203', '9781097331024', '9788177691474', '8176210080', '9781520996288', '1698829213', '1434104176', '043429067X', '9781792996757', '9781798847077', '0316308471', '9781417916566', '9788484452706', '1684223113', '9781728870335', '1702147622', '9781071082881', '9781702147620', '9782841610655', '9781407052410', '9798645631178', '1793188505', '9798472862769', '1707256934', '9798644436316', '8495407809', '9781851681051', '9798488393073', '1791725856', '1070110817', '8415676433', '9781691482702', '8177691473', '0681372052', '0434290785', '9780434290819', '9798653309007', '1798024071', '3530267198', '1072332140', '0394550498', '9788176210089', '1697871852', '9562911160', '9780434290673', '1095152645', '8471669226', '1793017794', '8187061472', '9781072828785', '1094148326', '9781094148311', '9780486837734', '9788187075240', '3257239602', '9781070816258', '1515439879', '9781086370157', '8479100605', '0394404289', '9798800420067', '9780394404288', '9781797577555', '9789953260266', '9781947844872', '9788476727010', '9798434242127', '0316308455', '9781407098395', '9781696135627', '1086370155', '9780241573716', '9780141194677', '9781796314663', '2909611108', '0241952999', '9780739333280', '9505640277', '9782756433585', '9798691885013', '9781791725853', '9789501702163', '0141910879', '9780681372054', '1094148334', '9781076112798', '1520996284', '9788412470765', '9782203231405', '9781549641572', '9781853264856', '1080079424', '1645172422', '9781697871852', '1794196579', '9798685225870', '1794078118', '1077936079', '9509234001', '1070816248', '9772477831', '9782890740556', '1417916567', '9781957990132', '9780330319720', '1072870630', '1407093398', '9781072870630', '1782123466', '0140195866', '1794497390', '1549641573', '1793261431', '000100039X', '9781441338365', '9781070110813', '1098827783', '1734114215', '9780857088550', '9781795002042', '9781094148335', '9780316308472', '0868520489', '9781080079421', '0434290688', '1838573682', '1852900113', '9781780742151', '1081077670', '9782851088345', '9780241952993', '9781645176381', '9781911475460', '0099505207', '8486344069', '9781796468434', '9781657049369', '9781852900113', '9781079404791', '8185674728', '9798681574835', '9781904633556', '9783257239607', '1947844873', '2851088343', '1070816256', '9781515439875', '9781795017619', '140709839X', '9798687003995', '9781782012306', '9781079404876', '9781086374087', '179320490X', '1082560847', '9568356169', '1448182670', '9781448182671', '2290040533', '0517202751', '9789562911160', '3492237878', '1082769509', '9780434290680', '1796314668', '9781529045857', '9781774817032', '9781838573683', '9798653552700', '1678628182', '9780099416937', '9562910318', '9781077936072', '1911475460', '9788121604376', '9781291269390', '9789176376652', '1864760117', '9781793188502', '9798520883807', '9789507642043', '1795251425', '1091277745', '1794681353', '1793026033', '9781781394014', '9780627023729', '3530268003', '9781520847283'], 'title': 'The Prophet', 'subject': ['American Prose poems', 'Lebanese', 'Prose', 'Essays Classic Literature', 'Criticism and interpretation', 'Fiction', 'Mysticism', 'Poetry', 'Translations into Arabic', 'Translations into Spanish', 'existentialism', 'existential', 'philosophy', 'philosophical', 'Prose poems, American', 'Poetry (poetic works by one author)', 'Mysticism, poetry', 'Translation into Italian', 'LITERATURA LIBANESA', 'POESIAS LIBANESAS', 'PROSA LIBANESA', 'Poemas en prosa estadounidenses', 'Traducciones al español', 'Misticismo', 'Poesía', 'Arabic poetry', 'Translations into English', 'Religious', 'Spiritual', 'Inspirational', 'Fairy tales', 'Philosophy and religion', 'freedom', 'reason', 'passion', 'pain', 'self-knowledge', 'death', 'Lebensphilosophie', 'Spirituality', 'Philosophy', 'Comics & graphic novels, adaptations', 'Adaptations', 'Graphic novels', 'American literature']}, {'author_name': ['Stephenie Meyer'], 'isbn': ['9789895572700', '9783492251495', '9780356253121', '958758368X', '9781905654406', '1905654413', '9780316160179', '1536400203', '7544803333', '9047510054', '1804228095', '8324589155', '9780557717187', '1905654340', '0739345303', '9788467222296', '9784863321335', '3551356904', '9781904233640', '9780316007443', '0316065455', '2012010679', '0349002495', '9780349002491', '1905654405', '1435244931', '9789707709942', '9780316053419', '8420409855', '3492251498', '9781905654383', '9780316065450', '9781536400205', '1603963545', '9780748125432', '0316007439', '9781907410482', '9780708867846', '9788598078304', '9895572700', '9788466332965', '9780748112517', '9781904233657', '8934974080336', '9781905654703', '842048427X', '9780748132638', '2013212119', '9781408428351', '1417795123', '9781905654376', '9789944821094', '9783551356901', '9780307280909', '0557717183', '9789870405269', '9788420469287', '0748132635', '8467222298', '9781905654413', '1904233805', '0316053414', '9781904233800', '9788580570489', '9781417795123', '0316038377', '9781905654420', '9782012010673', '9780316007412', '161657917X', '8598078301', '0316014419', '9788373846326', '9781435245006', '1905654707', '832458823X', '8420469289', '9780316327336', '9944821098', '9788324588237', '0316038385', '1606863525', '1408428350', '9780316007436', '9781435244931', '4863321333', '9781907411533', '9789587583687', '1904233643', '9780316038386', '9789047510055', '9870405266', '9587045076', '1435245008', '3551581495', '355135894X', '0316033413', '5170546076', '9780316038379', '0708867847', '9781594133299', '9786071104823', '9781616579173', '9781410413567', '0316007412', '8580570484', '1904233651', '9789571039640', '8373846328', '9783551358943', '9781907410024', '9787544803335', '6071104823', '9780356247793', '1905654383', '141041356X', '9707709944', '9783551581495', '9781603963541', '0316327336', '9789606665240', '030728090X', '0316007447', '1905654421', '0356253120', '1594133298', '9788420409856', '1907411534', '9788420484273', '9785170546077', '0356247791', '1905654375', '0748125434', '9780739345306', '9788324589159', '9953683980', '9780316015844', '1907410481', '0316015849', '0316160172', '9781804228098', '9781905654345', '9789953683980', '0748112510', '9782298011531', '9781606863527', '9788420471938', '9606665240', '9571039640', '1907410023', '9789587045079', '9780316033411', '2298011532', '9780316014410', '8466332960', '9788876250484', '8876250484', '9782013212113', '8420471933'], 'title': 'Twilight', 'subject': ['New York Times bestseller', 'nyt:series_books=2008-03-15', 'School & Education', 'Vampires', 'Juvenile Fiction', 'Fiction', \"Children's Books - Young Adult Fiction\", 'Science Fiction, Fantasy, & Magic', 'Children: Young Adult (Gr. 10-12)', 'Schools', 'Love & Romance', 'Horror & Ghost Stories', 'Juvenile Fiction / Horror & Ghost Stories', 'High schools', \"Children's 12-Up - Fiction - Horror\", 'High school students', 'First loves', 'Vampires, fiction', 'Schools, fiction', 'Washington (state), fiction', \"Children's fiction\", 'Love, fiction', 'cheese', 'Graphic novels', 'Adaptations', 'Large type books', 'Vampiros', 'Ficción juvenil', 'Escuelas secundarias', 'Escuelas', 'nyt:hardcover-graphic-books=2010-04-04', 'Edward Cullen (Fictitious character)', 'Comic books, strips', 'Bella Swan (Fictitious character)', 'Twilight (Meyer, Stephenie)', 'Motion pictures, juvenile literature', 'Motion pictures', 'Chinese language', 'Chang pian xiao shuo', 'Simplified characters', 'Russian language materials', 'Interpersonal attraction', 'Upside-down books', 'Teenagers', 'Comics & graphic novels, romance', 'Comics & graphic novels, fantasy', 'Translations into Chinese', 'Werewolves', 'American fiction', 'Yan qing xiao shuo', 'Interpersonal relations, fiction', 'Youth, fiction', 'High school', 'Junge Frau', 'Vampir', 'Verlieben', 'School stories', 'Reading materials', \"Children's books\", 'Spanish language', 'Novela juvenil', 'Spanish language materials', 'Translations from English', 'Portuguese fiction', 'Novela estadounidense', 'Novela', 'Interpersonal relations', 'Polish language materials', 'Romans, nouvelles, etc. pour la jeunesse', 'Écoles', 'Love', 'Young adult fiction', 'Persistence', 'Friendship', 'Romans, nouvelles', 'Élèves du secondaire', 'Écoles secondaires', 'Premier amour', 'Amour', 'Roman pour jeunes adultes', 'Persévérance', 'Amitié', 'Paranormal, Occult & Supernatural. . .', 'Romance', 'Paranormal', 'Social Themes', 'Dating & Sex', 'Außenseiterin', 'Gefahr', 'Tochter', 'Weibliche Jugend', 'Wohnungswechsel', 'Supernatural fiction', 'Mishnah', 'American Young adult fiction', 'Roman pour jeunes adultes américain', 'Comics & graphic novels, fantasy, general']}], 'num_found': 891, 'q': 'subject:(\"social themes\" OR \"comics & graphic novels\") subject:(\"race relations\" OR \"americans\")', 'offset': None}\n"
     ]
    }
   ],
   "source": [
    "print(search_recs(['social themes', 'comics & graphic novels'], ['race relations', 'americans'], 2))"
   ]
  },
  {
   "cell_type": "code",
   "execution_count": 7,
   "metadata": {
    "id": "qHI75FIPOoW_"
   },
   "outputs": [],
   "source": [
    "#book = get_books(syllabus); takes in a list of ISBNs\n",
    "def get_tags(books):\n",
    "    r = [requests.get(f'https://openlibrary.org/search.json?q=isbn:{isbn}&fields=subject').json()['docs'][0]['subject'] for isbn in books] #just give me the list of subjects plz\n",
    "    return r"
   ]
  },
  {
   "cell_type": "code",
   "execution_count": 8,
   "metadata": {
    "colab": {
     "base_uri": "https://localhost:8080/"
    },
    "id": "SB-1FyiMRm2V",
    "outputId": "2e2cfe62-0d7a-4103-b800-338edf983322"
   },
   "outputs": [
    {
     "name": "stdout",
     "output_type": "stream",
     "text": [
      "[['Married people, fiction', 'American fiction (fictional works by one author)', 'Fiction, psychological', 'Long island (n.y.), fiction', 'Fiction', 'Rich people', 'Mistresses', 'Married women', 'Traffic accidents', 'First loves', 'Revenge', 'American Manuscripts', 'Facsimiles', 'Manuscripts', 'Antiheroes, l fiction', 'Man-woman relationships, fiction', 'Upper class', 'American literature', 'Young adult fiction, comics & graphic novels, classic adaptation', 'Young adult fiction, social themes, class differences', 'Young adult fiction, classics', 'Fiction, historical,  New york (n.y.)', 'fiction\"', 'Comic books, strips', 'Love', 'YOUNG ADULT FICTION', 'Comics & Graphic Novels', 'Classic Adaptation', 'Social Themes', 'Class Differences', 'Historical', 'Literary', 'Man-woman relationship', 'Rich', 'Criticism and interpretation', 'Drama', 'Modern fiction', 'Classics', 'Literature', 'Open Library Staff Picks', 'Wealth', 'Readers', 'Economic conditions', 'American fiction', 'Social life and customs', 'Long Now Manual for Civilization', 'Fictional Works Publication Type', 'Rich people -- Fiction', 'Romance fiction', 'Long Island (N.Y.) -- Fiction', 'Psychological fiction', 'Love stories', 'Novela', 'Relaciones hombre-mujer', 'Spanish language materials', 'Nouveau riche', 'Reading Level-Grade 11', 'Reading Level-Grade 12', 'FICTION / General', 'Moral conditions', 'Manners and customs', 'Fitzgerald, f. scott (francis scott), 1896-1940', 'Large type books', 'Nineteen twenties', 'English fiction', 'New york (state), fiction', 'Wives', 'Relations entre hommes et femmes', 'Romans, nouvelles', 'Classes supérieures', 'Nouveaux riches', 'Premier amour', 'Riches', 'Maîtresses', 'Vengeance', 'Roman américain', 'Textual Criticism', 'Great Gatsby (Fitzgerald, F. Scott)', 'Romance Norte Americano', 'Fiction, friendship', 'Fiction, classics', 'Adultery', 'Accidents de la route', 'Millionaires', 'American Dream', 'Millionnaires', 'Rêve américain', 'Années vingt (Vingtième siècle)', 'Tránsito', 'Accidentes', 'Mujeres casadas', 'Primer amor', 'Cuentos de amor', 'Fiction, city life', 'Fiction, romance, historical, american', 'Fiction, romance, historical, 20th century', 'Fiction, historical, world war i', 'Traffic accidents--Fiction', 'First loves--Fiction', 'Rich people--Fiction', 'Mistresses--Fiction', 'Revenge--Fiction', 'Long Island (N.Y.)--Fiction', 'Novel', 'American fiction (collections), 20th century', 'Fiction, fantasy, romance', 'Fiction, action & adventure', 'Translations into Chinese', 'American literature, history and criticism, 19th century', 'Chang pian xiao shuo', 'New York (State)', 'First loves -- Fiction', 'Rich people -- New York (State) -- New York -- Fiction', 'New York (State) -- Long Island', 'New York (State) -- New York', 'Fictional works [publication type]', 'Man-woman relationships--new york (state)--long island--fiction', 'Upper class--new york (state)--long island--fiction', 'Ps3511.i9 g7 1995b', '813/.52', 'Fiction, general', 'Fiction, romance, general', 'Man-woman relationships'], ['Race relations', 'African Americans', 'Psychology', 'Afro-Americans', 'Giovanni, Nikki', 'Fiction', 'Americans in fiction', 'Americans', 'Sexual behavior', 'Homosexuality in fiction', 'Sexual orientation', 'Men', 'Bisexuals in fiction', 'Men in fiction', 'Sexual orientation in fiction', 'Homosexuality', 'Bisexuals', 'Classic Literature', 'Gay men', 'LGBTQ novels', 'Fiction, african american, general', 'Fiction, gay', 'Paris (france), fiction', 'FICTION / African American / General', 'FICTION / Classics', 'FICTION / Literary', 'Fiction, romance, general', 'American fiction (fictional works by one author)', 'Fiction, psychological', 'Fiction, african american & black, general', 'LGBTQ novels before Stonewall', 'American literature', 'Hommes', 'Romans, nouvelles', 'Sexualité', 'Homosexualité', 'Orientation sexuelle', 'Bisexuels', 'African American', 'General', 'Literary', 'Classics', 'Bohemianism', 'Blacks', 'Americans--france--fiction', 'Sexual orientation--fiction', 'Bisexuals--fiction', 'Ps3552.a45 g5 2001', '813/.54']]\n"
     ]
    }
   ],
   "source": [
    "lst = get_tags([9780192832696, 9780451015594])\n",
    "print(lst)"
   ]
  },
  {
   "cell_type": "code",
   "execution_count": 9,
   "metadata": {
    "id": "iHfj9VIeW0tA"
   },
   "outputs": [],
   "source": [
    "#takes in a list of lists\n",
    "def clean_tags(tags):\n",
    "    for idx, l in enumerate(tags): #index, list of lists\n",
    "\n",
    "        #lowercase\n",
    "        l = [s.lower() for s in l]\n",
    "\n",
    "        #language identifier\n",
    "        #We can either keep a tag if both methods AGREE that it is english OR only use one and set a probability threshold for english likelihood\n",
    "        l = [s for s in l if model_ft.predict(s)[0][0] == '__label__eng_Latn'] #if english, using fast text; https://aclanthology.org/E17-2068/\n",
    "        #if english, using langid\n",
    "        l = [s for s in l if identifier.classify(s)[0] == 'en'] #off a cursory glance, performs better than the fasttext one, but still not as robust as using both; http://www.aclweb.org/anthology/P12-3005\n",
    "\n",
    "        #remove mentions of \"fiction\" to prevent stripped pertinent information due to commas later on\n",
    "        l = [s.split('in fiction')[0] for s in l] #remove any mention of 'fiction'\n",
    "        l = [s.split(', fiction')[0] for s in l] #remove any mention of 'fiction'\n",
    "        l = [s.split('fiction, ')[0] for s in l] #remove any mention of 'fiction'\n",
    "\n",
    "        #clean for extraness\n",
    "        l = [s.split(',')[0]  for s in l] #remove anything after a comma\n",
    "        l = [s.split('--')[0]  for s in l] #remove anything with the --\n",
    "        l = [s.split('(')[0]  for s in l] #remove parenthesis and anything within it\n",
    "        l = [s.split('[')[0]  for s in l] #remove parenthesis and anything within it\n",
    "        l = [s.split('{')[0]  for s in l] #remove parenthesis and anything within it\n",
    "        l = [s.split('/')[0]  for s in l] #look at info before slash\n",
    "        l = [s.split('\"')[0]  for s in l] #remove quotes\n",
    "        l = [s for s in l if \":\" not in s] #remove anything with parentheses\n",
    "        l = [s for s in l if \"reading level\" not in s] #remove any mention of reading level\n",
    "\n",
    "        #remove other uninformative tags\n",
    "        l = [s for s in l if \"translations\" not in s]\n",
    "        l = [s for s in l if \"staff\" not in s] #staff picks\n",
    "        l = [s for s in l if \"language materials\" not in s] #language materials\n",
    "\n",
    "        #remove dewey system stuff until further notice\n",
    "        l = [s for s in l if not s.isdigit()]\n",
    "\n",
    "        #ampersand in the tags is causing problems\n",
    "\n",
    "        #remove whitespace\n",
    "        l = [s.strip(' \\t\\n\\r') for s in l]\n",
    "\n",
    "        #remove empty string\n",
    "        l = [s for s in l if bool(s) != False]\n",
    "\n",
    "        #make unique, update list\n",
    "        tags[idx] = list(set(l))\n",
    "\n",
    "    return tags #list of lists"
   ]
  },
  {
   "cell_type": "code",
   "execution_count": 12,
   "metadata": {
    "colab": {
     "base_uri": "https://localhost:8080/"
    },
    "id": "zLpEYa3PBTuK",
    "outputId": "5ab430cb-90d5-4cfe-f243-e31b9cc18992"
   },
   "outputs": [],
   "source": [
    "cleaned_tags = clean_tags(lst)"
   ]
  },
  {
   "cell_type": "code",
   "execution_count": 11,
   "metadata": {},
   "outputs": [],
   "source": [
    "# Importing dependencies\n",
    "import requests\n",
    "import pandas as pd\n",
    "import numpy as np\n",
    "from scipy.spatial.distance import pdist, squareform\n",
    "from scipy.stats import entropy\n",
    "import spacy\n",
    "from langdetect import detect, DetectorFactory\n",
    "from langdetect import detect_langs\n",
    "import fastlang\n",
    "from sentence_transformers import SentenceTransformer\n",
    "from sklearn.metrics.pairwise import cosine_similarity\n",
    "from sklearn.metrics.pairwise import cosine_distances\n",
    "from collections import Counter"
   ]
  },
  {
   "cell_type": "code",
   "execution_count": 26,
   "metadata": {},
   "outputs": [
    {
     "name": "stderr",
     "output_type": "stream",
     "text": [
      "/Users/markayiah/anaconda3/lib/python3.11/site-packages/transformers/tokenization_utils_base.py:1617: FutureWarning: `clean_up_tokenization_spaces` was not set. It will be set to `True` by default. This behavior will be deprecated in transformers v4.45, and will be then set to `False` by default. For more details check this issue: https://github.com/huggingface/transformers/issues/31884\n",
      "  warnings.warn(\n"
     ]
    }
   ],
   "source": [
    "# Load pre-trained model for embeddings\n",
    "model = SentenceTransformer('all-MiniLM-L6-v2')\n",
    "\n",
    "# Desired diversity area and overarching discipline\n",
    "desired_diversity = 'gender representation'\n",
    "overarching_discipline = 'african studies'\n",
    "\n",
    "# Function to categorize tags\n",
    "def categorize_tags(desired_diversity, overarching_discipline, tags):\n",
    "    categorized_tags = []\n",
    "    for tag_list in tags:\n",
    "        # Generate embeddings for tags, diversity area, and discipline\n",
    "        tag_embeddings = model.encode(tag_list)\n",
    "        diversity_embedding = model.encode([desired_diversity])\n",
    "        discipline_embedding = model.encode([overarching_discipline])\n",
    "        cat_tags = {}\n",
    "        for i, tag in enumerate(tag_list):\n",
    "            # Calculate cosine similarity to both diversity and discipline\n",
    "            diversity_sim = cosine_similarity([tag_embeddings[i]], diversity_embedding)[0][0]\n",
    "            discipline_sim = cosine_similarity([tag_embeddings[i]], discipline_embedding)[0][0]\n",
    "\n",
    "            # Categorize based on higher similarity\n",
    "            if (diversity_sim > .25) or (discipline_sim > .15):\n",
    "                if diversity_sim > discipline_sim:\n",
    "                    cat_tags[tag] = 'Diversity'\n",
    "                elif discipline_sim > diversity_sim:\n",
    "                    cat_tags[tag] = 'Discipline'\n",
    "            else:\n",
    "                cat_tags[tag] = 'Neither'\n",
    "        categorized_tags.append(cat_tags)\n",
    "\n",
    "    return categorized_tags\n",
    "\n",
    "# Categorize tags\n",
    "categorized_tags = categorize_tags(desired_diversity, overarching_discipline, cleaned_tags)"
   ]
  },
  {
   "cell_type": "code",
   "execution_count": 35,
   "metadata": {},
   "outputs": [
    {
     "name": "stdout",
     "output_type": "stream",
     "text": [
      "alpha (overarching discipline): ['long now manual for civilization', 'novel', 'large type books', 'american literature', 'comic books', 'wealth', 'facsimiles', 'modern fiction', 'economic conditions', 'social life and customs', 'fictional works', 'fictional works publication type', 'historical', 'first loves', 'literature', 'love stories', 'classics', 'comics & graphic novels', 'love', 'fiction', 'classic literature', 'bohemianism', 'blacks', 'race relations', 'classics', 'lgbtq novels before stonewall', 'american literature', 'fiction'] \n",
      "\n",
      "beta (desired diversity): ['criticism and interpretation', 'social themes', 'married women', 'man-woman relationships', 'man-woman relationship', 'wives', 'manners and customs', 'drama', 'psychological fiction', 'readers', 'married people', 'moral conditions', 'homosexuality', 'sexual behavior', 'general', 'sexual orientation']\n"
     ]
    }
   ],
   "source": [
    "# Splitting the tags into their respective catogories\n",
    "cat_alpha, cat_beta = [], []\n",
    "for lst in categorized_tags:\n",
    "    for tag in lst:\n",
    "        if lst[tag] == 'Discipline':\n",
    "            cat_alpha.append(tag)\n",
    "        elif lst[tag] == 'Diversity':\n",
    "            cat_beta.append(tag)"
   ]
  },
  {
   "cell_type": "code",
   "execution_count": 41,
   "metadata": {},
   "outputs": [
    {
     "name": "stderr",
     "output_type": "stream",
     "text": [
      "/Users/markayiah/anaconda3/lib/python3.11/site-packages/transformers/tokenization_utils_base.py:1617: FutureWarning: `clean_up_tokenization_spaces` was not set. It will be set to `True` by default. This behavior will be deprecated in transformers v4.45, and will be then set to `False` by default. For more details check this issue: https://github.com/huggingface/transformers/issues/31884\n",
      "  warnings.warn(\n"
     ]
    },
    {
     "name": "stdout",
     "output_type": "stream",
     "text": [
      "Rao's Entropy (Diversity): 0.20820375636589428\n"
     ]
    }
   ],
   "source": [
    "# Load pre-trained model for topic embeddings\n",
    "model = SentenceTransformer('all-MiniLM-L6-v2')\n",
    "\n",
    "# Define Rao's entropy formula\n",
    "def raos_entropy(cat_alpha, cat_beta):\n",
    "    # Generate embeddings for topics\n",
    "    alpha_embeddings = model.encode(cat_alpha)\n",
    "    beta_embeddings = model.encode(cat_beta)\n",
    "\n",
    "    # Full list of syllabus topics\n",
    "    syllabus_topics = cat_alpha + cat_beta\n",
    "\n",
    "    # Calculate proportions (p_i and p_j)\n",
    "    topic_counts = Counter(syllabus_topics)\n",
    "    total_topics = len(syllabus_topics)\n",
    "    p_alpha = np.array([topic_counts[topic] / total_topics for topic in cat_alpha])\n",
    "    p_beta = np.array([topic_counts[topic] / total_topics for topic in cat_beta])\n",
    "    entropy = 0.0\n",
    "    # Calculate pairwise cosine distances between topics\n",
    "    distance_matrix = cosine_distances(alpha_embeddings, beta_embeddings)\n",
    "    \n",
    "    # Sum over all topic pairs\n",
    "    for i in range(len(cat_alpha)):\n",
    "        for j in range(len(cat_beta)):\n",
    "            entropy += p_alpha[i] * p_beta[j] * distance_matrix[i, j]\n",
    "    \n",
    "    return entropy\n",
    "\n",
    "# Calculate diversity using Rao's entropy\n",
    "entropy = raos_entropy(cat_alpha, cat_beta)\n",
    "print(f\"Rao's Entropy (Diversity): {entropy}\")"
   ]
  }
 ],
 "metadata": {
  "colab": {
   "provenance": []
  },
  "kernelspec": {
   "display_name": "Python 3 (ipykernel)",
   "language": "python",
   "name": "python3"
  },
  "language_info": {
   "codemirror_mode": {
    "name": "ipython",
    "version": 3
   },
   "file_extension": ".py",
   "mimetype": "text/x-python",
   "name": "python",
   "nbconvert_exporter": "python",
   "pygments_lexer": "ipython3",
   "version": "3.11.4"
  }
 },
 "nbformat": 4,
 "nbformat_minor": 1
}
