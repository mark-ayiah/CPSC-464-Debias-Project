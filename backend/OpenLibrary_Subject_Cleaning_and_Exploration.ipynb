{
  "nbformat": 4,
  "nbformat_minor": 0,
  "metadata": {
    "colab": {
      "provenance": []
    },
    "kernelspec": {
      "name": "python3",
      "display_name": "Python 3"
    },
    "language_info": {
      "name": "python"
    }
  },
  "cells": [
    {
      "cell_type": "code",
      "execution_count": 90,
      "metadata": {
        "colab": {
          "base_uri": "https://localhost:8080/"
        },
        "id": "YX_y3uRlVcuD",
        "outputId": "8ea8153e-9446-4ce0-f341-f04650f0fc8a"
      },
      "outputs": [
        {
          "output_type": "execute_result",
          "data": {
            "text/plain": [
              "['Gold discoveries',\n",
              " 'Wolfdogs',\n",
              " 'Classic Literature',\n",
              " 'American Adventure stories',\n",
              " 'Open Library Staff Picks',\n",
              " 'Juvenile fiction',\n",
              " 'Fiction',\n",
              " 'Gold mines and mining',\n",
              " 'Historical Fiction',\n",
              " 'Wolves',\n",
              " 'Human-animal relationships',\n",
              " 'Juvenile Literature',\n",
              " 'Dogs',\n",
              " 'Thriller',\n",
              " 'Accelerated Reader',\n",
              " 'Mensch',\n",
              " 'Survival',\n",
              " 'Children: Grades 4-6',\n",
              " 'Children: Grades 3-4',\n",
              " \"Children's fiction\",\n",
              " 'Wolves, fiction',\n",
              " 'Gold mines and mining, fiction',\n",
              " 'American fiction (fictional works by one author)',\n",
              " 'Dogs, fiction',\n",
              " 'Canada, fiction',\n",
              " 'Indians of North America',\n",
              " 'Large type books',\n",
              " 'Loups',\n",
              " 'Romans, nouvelles, etc. pour la jeunesse',\n",
              " 'Chiens',\n",
              " 'Pôle Nord',\n",
              " 'Romans',\n",
              " 'Adventure stories',\n",
              " 'Nature, fiction',\n",
              " 'Fiction, action & adventure',\n",
              " 'Fiction, historical, general',\n",
              " 'Human-animal relationships, fiction',\n",
              " 'History',\n",
              " 'Wolfdogs -- Fiction',\n",
              " 'Canada, Northern -- Fiction',\n",
              " 'Wilderness survival, fiction',\n",
              " 'Alaska, fiction',\n",
              " 'Yukon, fiction',\n",
              " 'California, fiction',\n",
              " 'Dogs, juvenile literature',\n",
              " 'Adventure and adventurers, fiction']"
            ]
          },
          "metadata": {},
          "execution_count": 90
        }
      ],
      "source": [
        "import csv\n",
        "\n",
        "#pip install fasttext\n",
        "import fasttext\n",
        "from huggingface_hub import hf_hub_download\n",
        "\n",
        "model_path = hf_hub_download(repo_id=\"facebook/fasttext-language-identification\", filename=\"model.bin\")\n",
        "model = fasttext.load_model(model_path)\n",
        "\n",
        "import requests\n",
        "import re\n",
        "#testing Open Library API\n",
        "r = requests.get('https://openlibrary.org/search.json?q=subject:(\"dogs\"+OR+\"cats\")+subject:(\"Juvenile fiction\"+OR+\"Juvenile literature\")&fields=subject')\n",
        "r = r.json()\n",
        "subs = [d['subject'] for d in r['docs']] #gets the list, AKA value from k:v in subject:list dictionary\n",
        "subs[0]"
      ]
    },
    {
      "cell_type": "code",
      "source": [
        "#book = get_books(syllabus); takes in a list of ISBNs\n",
        "def get_tags(books):\n",
        "  r = [requests.get(f'https://openlibrary.org/search.json?q=isbn:{isbn}&fields=subject').json()['docs'][0]['subject'] for isbn in books] #just give me the list of subjects plz\n",
        "  return r"
      ],
      "metadata": {
        "id": "qHI75FIPOoW_"
      },
      "execution_count": 123,
      "outputs": []
    },
    {
      "cell_type": "code",
      "source": [
        "lst = get_tags([9780060173227, 9780451015594])\n",
        "print(lst)"
      ],
      "metadata": {
        "colab": {
          "base_uri": "https://localhost:8080/"
        },
        "id": "SB-1FyiMRm2V",
        "outputId": "e7868055-023a-4938-ddfe-7d0b7b357845"
      },
      "execution_count": 138,
      "outputs": [
        {
          "output_type": "stream",
          "name": "stdout",
          "text": [
            "[['fiction', 'fiction classics', 'contemporary fiction', 'racial segregation', 'mob mentality', 'Southern Gothic', 'southern life', 'racial injustice', 'class', 'courage', 'compassion', 'gender roles', 'laws', 'loss of innocence', 'rape trials', 'domestic fiction', 'legal stories', 'Bildungsromans', 'Race relations', 'Lawyers', 'Girls', 'Prejudices', 'Fathers and daughters', 'Trials (Rape)', 'Great Depression', 'African Americans', 'Father-daughter relationship,', 'Toleranz', 'Kind', 'American fiction (fictional works by one author)', 'Fiction, coming of age', 'Fiction, family life', 'Fiction, legal', 'Fathers and daughters, fiction', 'Southern states, fiction', 'Lawyers, fiction', 'African americans, fiction', 'Social life and customs', 'Manners and customs', 'Padres e hijas', 'Novela', 'Relaciones raciales', 'Procesos por violación', 'Spanish language materials', 'Father-daughter relationship', 'New York Times reviewed', 'American literature', 'Fiction, family life, general', 'Large type books', 'Muchachas', 'Ficción', 'Relations raciales', 'Romans, nouvelles', 'Procès (Viol)', 'Filles', 'Classics', 'Literary', 'American fiction', 'Estados del Sur (Estados Unidos)', 'Juvenile fiction', 'Families', 'Fiction, general'], ['Race relations', 'African Americans', 'Psychology', 'Afro-Americans', 'Giovanni, Nikki', 'Fiction', 'Americans in fiction', 'Americans', 'Sexual behavior', 'Homosexuality in fiction', 'Sexual orientation', 'Men', 'Bisexuals in fiction', 'Men in fiction', 'Sexual orientation in fiction', 'Homosexuality', 'Bisexuals', 'Classic Literature', 'Gay men', 'LGBTQ novels', 'Fiction, african american, general', 'Fiction, gay', 'Paris (france), fiction', 'FICTION / African American / General', 'FICTION / Classics', 'FICTION / Literary', 'Fiction, romance, general', 'American fiction (fictional works by one author)', 'Fiction, psychological', 'Fiction, african american & black, general', 'LGBTQ novels before Stonewall', 'American literature', 'Hommes', 'Romans, nouvelles', 'Sexualité', 'Homosexualité', 'Orientation sexuelle', 'Bisexuels', 'African American', 'General', 'Literary', 'Classics', 'Bohemianism', 'Blacks', 'Americans--france--fiction', 'Sexual orientation--fiction', 'Bisexuals--fiction', 'Ps3552.a45 g5 2001', '813/.54']]\n"
          ]
        }
      ]
    },
    {
      "cell_type": "code",
      "source": [
        "#takes in a list of lists\n",
        "def clean_tags(tags):\n",
        "  for idx, l in enumerate(tags): #index, list of lists\n",
        "\n",
        "    #lowercase\n",
        "    l = [s.lower() for s in l]\n",
        "\n",
        "    #language\n",
        "    l = [s for s in l if model.predict(s)[0][0] == '__label__eng_Latn'] #if english\n",
        "\n",
        "    #remove mentions of \"fiction\" to prevent stripped pertinent information due to commas later on\n",
        "    l = [s.split('in fiction')[0] for s in l] #remove any mention of 'fiction'\n",
        "    l = [s.split(', fiction')[0] for s in l] #remove any mention of 'fiction'\n",
        "    l = [s.split('fiction, ')[0] for s in l] #remove any mention of 'fiction'\n",
        "\n",
        "    #clean for extraness\n",
        "    l = [s.split(',')[0]  for s in l] #remove anything after a comma\n",
        "    l = [s.split('--')[0]  for s in l] #remove anything with the --\n",
        "    l = [s.split('(')[0]  for s in l] #remove parenthesis and anything within it\n",
        "    l = [s.split('/')[0]  for s in l] #remove parenthesis and anything within it\n",
        "    l = [s for s in l if \":\" not in s] #remove anything with parentheses\n",
        "\n",
        "    #remove whitespace\n",
        "    l = [s.strip(' \\t\\n\\r') for s in l]\n",
        "\n",
        "    #remove empty string\n",
        "    l = [s for s in l if bool(s) != False]\n",
        "\n",
        "    #make unique, update list\n",
        "    tags[idx] = set(l)\n",
        "\n",
        "  return tags\n"
      ],
      "metadata": {
        "id": "iHfj9VIeW0tA"
      },
      "execution_count": 143,
      "outputs": []
    },
    {
      "cell_type": "code",
      "source": [
        "clean_tags(lst)"
      ],
      "metadata": {
        "colab": {
          "base_uri": "https://localhost:8080/"
        },
        "id": "zLpEYa3PBTuK",
        "outputId": "5d1ab707-c907-4c03-f92b-842227f9660e"
      },
      "execution_count": 144,
      "outputs": [
        {
          "output_type": "execute_result",
          "data": {
            "text/plain": [
              "[{'american literature',\n",
              "  'class',\n",
              "  'classics',\n",
              "  'compassion',\n",
              "  'contemporary fiction',\n",
              "  'courage',\n",
              "  'domestic fiction',\n",
              "  'families',\n",
              "  'father-daughter relationship',\n",
              "  'fathers and daughters',\n",
              "  'fiction',\n",
              "  'fiction classics',\n",
              "  'girls',\n",
              "  'great depression',\n",
              "  'large type books',\n",
              "  'laws',\n",
              "  'lawyers',\n",
              "  'legal stories',\n",
              "  'literary',\n",
              "  'loss of innocence',\n",
              "  'manners and customs',\n",
              "  'mob mentality',\n",
              "  'race relations',\n",
              "  'racial injustice',\n",
              "  'racial segregation',\n",
              "  'rape trials',\n",
              "  'social life and customs',\n",
              "  'southern gothic',\n",
              "  'southern life',\n",
              "  'southern states',\n",
              "  'spanish language materials',\n",
              "  'trials'},\n",
              " {'american literature',\n",
              "  'blacks',\n",
              "  'bohemianism',\n",
              "  'classic literature',\n",
              "  'classics',\n",
              "  'fiction',\n",
              "  'general',\n",
              "  'homosexuality',\n",
              "  'lgbtq novels before stonewall',\n",
              "  'literary',\n",
              "  'paris',\n",
              "  'psychology',\n",
              "  'race relations',\n",
              "  'sexual behavior',\n",
              "  'sexual orientation'}]"
            ]
          },
          "metadata": {},
          "execution_count": 144
        }
      ]
    }
  ]
}