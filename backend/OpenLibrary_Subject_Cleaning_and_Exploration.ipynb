{
  "nbformat": 4,
  "nbformat_minor": 0,
  "metadata": {
    "colab": {
      "provenance": []
    },
    "kernelspec": {
      "name": "python3",
      "display_name": "Python 3"
    },
    "language_info": {
      "name": "python"
    }
  },
  "cells": [
    {
      "cell_type": "code",
      "execution_count": 174,
      "metadata": {
        "colab": {
          "base_uri": "https://localhost:8080/"
        },
        "id": "YX_y3uRlVcuD",
        "outputId": "380d414f-8ebf-4dbc-c65a-6b93e02c2658"
      },
      "outputs": [
        {
          "output_type": "execute_result",
          "data": {
            "text/plain": [
              "['Gold discoveries',\n",
              " 'Wolfdogs',\n",
              " 'Classic Literature',\n",
              " 'American Adventure stories',\n",
              " 'Open Library Staff Picks',\n",
              " 'Juvenile fiction',\n",
              " 'Fiction',\n",
              " 'Gold mines and mining',\n",
              " 'Historical Fiction',\n",
              " 'Wolves',\n",
              " 'Human-animal relationships',\n",
              " 'Juvenile Literature',\n",
              " 'Dogs',\n",
              " 'Thriller',\n",
              " 'Accelerated Reader',\n",
              " 'Mensch',\n",
              " 'Survival',\n",
              " 'Children: Grades 4-6',\n",
              " 'Children: Grades 3-4',\n",
              " \"Children's fiction\",\n",
              " 'Wolves, fiction',\n",
              " 'Gold mines and mining, fiction',\n",
              " 'American fiction (fictional works by one author)',\n",
              " 'Dogs, fiction',\n",
              " 'Canada, fiction',\n",
              " 'Indians of North America',\n",
              " 'Large type books',\n",
              " 'Loups',\n",
              " 'Romans, nouvelles, etc. pour la jeunesse',\n",
              " 'Chiens',\n",
              " 'Pôle Nord',\n",
              " 'Romans',\n",
              " 'Adventure stories',\n",
              " 'Nature, fiction',\n",
              " 'Fiction, action & adventure',\n",
              " 'Fiction, historical, general',\n",
              " 'Human-animal relationships, fiction',\n",
              " 'History',\n",
              " 'Wolfdogs -- Fiction',\n",
              " 'Canada, Northern -- Fiction',\n",
              " 'Wilderness survival, fiction',\n",
              " 'Alaska, fiction',\n",
              " 'Yukon, fiction',\n",
              " 'California, fiction',\n",
              " 'Dogs, juvenile literature',\n",
              " 'Adventure and adventurers, fiction']"
            ]
          },
          "metadata": {},
          "execution_count": 174
        }
      ],
      "source": [
        "import csv\n",
        "\n",
        "#language identifier 1\n",
        "#pip install fasttext\n",
        "import fasttext\n",
        "from huggingface_hub import hf_hub_download\n",
        "\n",
        "model_path = hf_hub_download(repo_id=\"facebook/fasttext-language-identification\", filename=\"model.bin\")\n",
        "model_ft = fasttext.load_model(model_path)\n",
        "\n",
        "#language identifier 2\n",
        "#pip install langid\n",
        "from langid.langid import LanguageIdentifier, model\n",
        "identifier = LanguageIdentifier.from_modelstring(model, norm_probs=True) #instantiate identifier\n",
        "\n",
        "import requests\n",
        "import re\n",
        "#testing Open Library API\n",
        "r = requests.get('https://openlibrary.org/search.json?q=subject:(\"dogs\"+OR+\"cats\")+subject:(\"Juvenile fiction\"+OR+\"Juvenile literature\")&fields=subject')\n",
        "r = r.json()\n",
        "subs = [d['subject'] for d in r['docs']] #gets the list, AKA value from k:v in subject:list dictionary\n",
        "subs[0]"
      ]
    },
    {
      "cell_type": "code",
      "source": [
        "#book = get_books(syllabus); takes in a list of ISBNs\n",
        "def get_tags(books):\n",
        "  r = [requests.get(f'https://openlibrary.org/search.json?q=isbn:{isbn}&fields=subject').json()['docs'][0]['subject'] for isbn in books] #just give me the list of subjects plz\n",
        "  return r"
      ],
      "metadata": {
        "id": "qHI75FIPOoW_"
      },
      "execution_count": 175,
      "outputs": []
    },
    {
      "cell_type": "code",
      "source": [
        "lst = get_tags([9780192832696, 9780451015594])\n",
        "print(lst)"
      ],
      "metadata": {
        "colab": {
          "base_uri": "https://localhost:8080/"
        },
        "id": "SB-1FyiMRm2V",
        "outputId": "f6fcb3e4-58ef-4cc3-cb6f-938e1b905420"
      },
      "execution_count": 190,
      "outputs": [
        {
          "output_type": "stream",
          "name": "stdout",
          "text": [
            "[['Married people, fiction', 'American fiction (fictional works by one author)', 'Fiction, psychological', 'Long island (n.y.), fiction', 'Fiction', 'Rich people', 'Mistresses', 'Married women', 'Traffic accidents', 'First loves', 'Revenge', 'American Manuscripts', 'Facsimiles', 'Manuscripts', 'Antiheroes, l fiction', 'Man-woman relationships, fiction', 'Upper class', 'American literature', 'Young adult fiction, comics & graphic novels, classic adaptation', 'Young adult fiction, social themes, class differences', 'Young adult fiction, classics', 'Fiction, historical,  New york (n.y.)', 'fiction\"', 'Comic books, strips', 'Love', 'YOUNG ADULT FICTION', 'Comics & Graphic Novels', 'Classic Adaptation', 'Social Themes', 'Class Differences', 'Historical', 'Literary', 'Man-woman relationship', 'Rich', 'Criticism and interpretation', 'Drama', 'Modern fiction', 'Classics', 'Literature', 'Open Library Staff Picks', 'Wealth', 'Readers', 'Economic conditions', 'American fiction', 'Social life and customs', 'Long Now Manual for Civilization', 'Fictional Works Publication Type', 'Rich people -- Fiction', 'Romance fiction', 'Long Island (N.Y.) -- Fiction', 'Psychological fiction', 'Love stories', 'Novela', 'Relaciones hombre-mujer', 'Spanish language materials', 'Nouveau riche', 'Reading Level-Grade 11', 'Reading Level-Grade 12', 'FICTION / General', 'Moral conditions', 'Manners and customs', 'Fitzgerald, f. scott (francis scott), 1896-1940', 'Large type books', 'Nineteen twenties', 'English fiction', 'New york (state), fiction', 'Wives', 'Relations entre hommes et femmes', 'Romans, nouvelles', 'Classes supérieures', 'Nouveaux riches', 'Premier amour', 'Riches', 'Maîtresses', 'Vengeance', 'Roman américain', 'Textual Criticism', 'Great Gatsby (Fitzgerald, F. Scott)', 'Romance Norte Americano', 'Fiction, friendship', 'Fiction, classics', 'Adultery', 'Accidents de la route', 'Millionaires', 'American Dream', 'Millionnaires', 'Rêve américain', 'Années vingt (Vingtième siècle)', 'Tránsito', 'Accidentes', 'Mujeres casadas', 'Primer amor', 'Cuentos de amor', 'Fiction, city life', 'Fiction, romance, historical, american', 'Fiction, romance, historical, 20th century', 'Fiction, historical, world war i', 'Traffic accidents--Fiction', 'First loves--Fiction', 'Rich people--Fiction', 'Mistresses--Fiction', 'Revenge--Fiction', 'Long Island (N.Y.)--Fiction', 'Novel', 'American fiction (collections), 20th century', 'Fiction, fantasy, romance', 'Fiction, action & adventure', 'Translations into Chinese', 'American literature, history and criticism, 19th century', 'Chang pian xiao shuo', 'New York (State)', 'First loves -- Fiction', 'Rich people -- New York (State) -- New York -- Fiction', 'New York (State) -- Long Island', 'New York (State) -- New York', 'Fictional works [publication type]', 'Man-woman relationships--new york (state)--long island--fiction', 'Upper class--new york (state)--long island--fiction', 'Ps3511.i9 g7 1995b', '813/.52', 'Fiction, general', 'Fiction, romance, general', 'Man-woman relationships'], ['Race relations', 'African Americans', 'Psychology', 'Afro-Americans', 'Giovanni, Nikki', 'Fiction', 'Americans in fiction', 'Americans', 'Sexual behavior', 'Homosexuality in fiction', 'Sexual orientation', 'Men', 'Bisexuals in fiction', 'Men in fiction', 'Sexual orientation in fiction', 'Homosexuality', 'Bisexuals', 'Classic Literature', 'Gay men', 'LGBTQ novels', 'Fiction, african american, general', 'Fiction, gay', 'Paris (france), fiction', 'FICTION / African American / General', 'FICTION / Classics', 'FICTION / Literary', 'Fiction, romance, general', 'American fiction (fictional works by one author)', 'Fiction, psychological', 'Fiction, african american & black, general', 'LGBTQ novels before Stonewall', 'American literature', 'Hommes', 'Romans, nouvelles', 'Sexualité', 'Homosexualité', 'Orientation sexuelle', 'Bisexuels', 'African American', 'General', 'Literary', 'Classics', 'Bohemianism', 'Blacks', 'Americans--france--fiction', 'Sexual orientation--fiction', 'Bisexuals--fiction', 'Ps3552.a45 g5 2001', '813/.54']]\n"
          ]
        }
      ]
    },
    {
      "cell_type": "code",
      "source": [
        "#takes in a list of lists\n",
        "def clean_tags(tags):\n",
        "  for idx, l in enumerate(tags): #index, list of lists\n",
        "\n",
        "    #lowercase\n",
        "    l = [s.lower() for s in l]\n",
        "\n",
        "    #language identifier\n",
        "    #We can either keep a tag if both methods AGREE that it is english OR only use one and set a probability threshold for english likelihood\n",
        "    l = [s for s in l if model_ft.predict(s)[0][0] == '__label__eng_Latn'] #if english, using fast text; https://aclanthology.org/E17-2068/\n",
        "    #if english, using langid\n",
        "    l = [s for s in l if identifier.classify(s)[0] == 'en'] #off a cursory glance, performs better than the fasttext one, but still not as robust as using both; http://www.aclweb.org/anthology/P12-3005\n",
        "\n",
        "    #remove mentions of \"fiction\" to prevent stripped pertinent information due to commas later on\n",
        "    l = [s.split('in fiction')[0] for s in l] #remove any mention of 'fiction'\n",
        "    l = [s.split(', fiction')[0] for s in l] #remove any mention of 'fiction'\n",
        "    l = [s.split('fiction, ')[0] for s in l] #remove any mention of 'fiction'\n",
        "\n",
        "    #clean for extraness\n",
        "    l = [s.split(',')[0]  for s in l] #remove anything after a comma\n",
        "    l = [s.split('--')[0]  for s in l] #remove anything with the --\n",
        "    l = [s.split('(')[0]  for s in l] #remove parenthesis and anything within it\n",
        "    l = [s.split('[')[0]  for s in l] #remove parenthesis and anything within it\n",
        "    l = [s.split('{')[0]  for s in l] #remove parenthesis and anything within it\n",
        "    l = [s.split('/')[0]  for s in l] #look at info before slash\n",
        "    l = [s.split('\"')[0]  for s in l] #remove quotes\n",
        "    l = [s for s in l if \":\" not in s] #remove anything with parentheses\n",
        "    l = [s for s in l if \"reading level\" not in s] #remove any mention of reading level\n",
        "\n",
        "    #remove other uninformative tags\n",
        "    l = [s for s in l if \"translations\" not in s]\n",
        "    l = [s for s in l if \"staff\" not in s] #staff picks\n",
        "    l = [s for s in l if \"language materials\" not in s] #language materials\n",
        "\n",
        "    #remove whitespace\n",
        "    l = [s.strip(' \\t\\n\\r') for s in l]\n",
        "\n",
        "    #remove empty string\n",
        "    l = [s for s in l if bool(s) != False]\n",
        "\n",
        "    #make unique, update list\n",
        "    tags[idx] = set(l)\n",
        "\n",
        "  return tags\n"
      ],
      "metadata": {
        "id": "iHfj9VIeW0tA"
      },
      "execution_count": 196,
      "outputs": []
    },
    {
      "cell_type": "code",
      "source": [
        "clean_tags(lst)"
      ],
      "metadata": {
        "colab": {
          "base_uri": "https://localhost:8080/"
        },
        "id": "zLpEYa3PBTuK",
        "outputId": "bcdf6fec-fe7b-4921-e148-703d7e57b5c0"
      },
      "execution_count": 197,
      "outputs": [
        {
          "output_type": "execute_result",
          "data": {
            "text/plain": [
              "[{'813',\n",
              "  'american literature',\n",
              "  'classic adaptation',\n",
              "  'classics',\n",
              "  'comic books',\n",
              "  'comics & graphic novels',\n",
              "  'criticism and interpretation',\n",
              "  'drama',\n",
              "  'economic conditions',\n",
              "  'facsimiles',\n",
              "  'fiction',\n",
              "  'fictional works',\n",
              "  'fictional works publication type',\n",
              "  'first loves',\n",
              "  'historical',\n",
              "  'large type books',\n",
              "  'literature',\n",
              "  'long island',\n",
              "  'long now manual for civilization',\n",
              "  'love',\n",
              "  'love stories',\n",
              "  'man-woman relationship',\n",
              "  'man-woman relationships',\n",
              "  'manners and customs',\n",
              "  'married people',\n",
              "  'married women',\n",
              "  'modern fiction',\n",
              "  'moral conditions',\n",
              "  'novel',\n",
              "  'psychological fiction',\n",
              "  'readers',\n",
              "  'social life and customs',\n",
              "  'social themes',\n",
              "  'wealth',\n",
              "  'wives'},\n",
              " {'813',\n",
              "  'american literature',\n",
              "  'blacks',\n",
              "  'bohemianism',\n",
              "  'classic literature',\n",
              "  'classics',\n",
              "  'fiction',\n",
              "  'general',\n",
              "  'homosexuality',\n",
              "  'lgbtq novels before stonewall',\n",
              "  'race relations',\n",
              "  'sexual behavior',\n",
              "  'sexual orientation'}]"
            ]
          },
          "metadata": {},
          "execution_count": 197
        }
      ]
    }
  ]
}